{
 "cells": [
  {
   "cell_type": "markdown",
   "metadata": {
    "id": "iCGERDM6UKd_"
   },
   "source": [
    "# **Topic Model Evaluation**\n",
    "Here, you will find the code needed to run the experiments of the paper:\n",
    "\n",
    "*BERTopic: Neural topic modeling with a class-based TF-IDF procedure*.\n",
    "\n",
    "The package itself can be found [here](https://github.com/MaartenGr/BERTopic) and the repository for evaluation [here]()."
   ]
  },
  {
   "cell_type": "markdown",
   "metadata": {
    "id": "MFwg78cJ0BFg"
   },
   "source": [
    "## **Installation**\n",
    "First, we need to install a few packages in order to run our experiments. Most of the packages are installed through the `tm_evaluation` package of which [OCTIS](https://github.com/MIND-Lab/OCTIS) is an important component. \n",
    "\n",
    "You can install the evaluation package with `pip install .` from the root. To additionally install CTM run `pip install .[ctm]`To install BERTopic, run `pip install bertopic==v0.9.4` after installing the base package or use `pip install .[bertopic]`. Top2Vec should be installed with `pip install top2vec==v1.0.26` after installing the base package. "
   ]
  },
  {
   "cell_type": "markdown",
   "metadata": {
    "id": "dLesRC-17zN9"
   },
   "source": [
    "To run a faster version of LDAseq for dynamic topic modeling, we need to uninstall gensim and install a specific merge that allows for this speed-up. First, run `pip uninstall gensim -y`, then, run `pip install git+https://github.com/RaRe-Technologies/gensim.git@refs/pull/3172/merge`"
   ]
  },
  {
   "cell_type": "markdown",
   "metadata": {
    "id": "fisNVVa977e-"
   },
   "source": [
    "**NOTE**: After installing the above packages, make sure to restart the runtime otherwise you are likely to run into issues. "
   ]
  },
  {
   "cell_type": "markdown",
   "metadata": {
    "id": "nQnAdKJ-Do1S"
   },
   "source": [
    "#  1. **Data**\n",
    "Some of the data can be accessed through OCTIS, such as the `20NewsGroup` and `BBC_News` datasets. Other datasets, however, are downloaded and then run through OCTIS in order to be used in their pipeline. \n",
    "\n",
    "The datasets that we are going to be preparing are: \n",
    "* Trump's tweets\n",
    "* United Nations general debates between 2006 and 2015 "
   ]
  },
  {
   "cell_type": "code",
   "execution_count": 1,
   "metadata": {},
   "outputs": [
    {
     "name": "stdout",
     "output_type": "stream",
     "text": [
      "Loading climate data\n"
     ]
    }
   ],
   "source": [
    "import pandas as pd\n",
    "print(\"Loading climate data\")\n",
    "df = pd.read_csv('/Users/alessiogandelli/dev/internship/topic_modeling/data/alessio.csv',  sep = '\\t', lineterminator='\\n')\n",
    "df = df[~df['text'].str.startswith('RT')]\n",
    "# only english tweets \n",
    "df = df[df['lang'] == 'en']\n",
    "# remove links\n",
    "df['text'] = df['text'].str.replace(r'http\\S+', '', regex=True)\n",
    "\n",
    "# to lowercase \n",
    "df['text'] = df['text'].str.lower()\n",
    "#remove punctuation\n",
    "df['text'] = df['text'].str.replace(r'[^\\w\\s]', '', regex=True)\n",
    "\n",
    "# remove #cop22 and #climatechange\n",
    "df['text'] = df['text'].str.replace(r'cop22', '', regex=True)\n",
    "df['text'] = df['text'].str.replace(r'climatechange', '', regex=True)\n",
    "df['text'] = df['text'].str.replace(r'p2', '', regex=True)\n",
    "df['text'] = df['text'].str.replace(r'rt', '', regex=True)\n",
    "# remove empty tweets\n",
    "df = df[df['text'] != '']\n",
    "\n",
    "df['date'] = pd.to_datetime(df['year'].astype(str) + '-' + df['month'].astype(str) + '-' + df['day'].astype(str))\n",
    "\n",
    "timestamps = df.date.to_list()\n",
    "docs = df.text.to_list()\n",
    "\n"
   ]
  },
  {
   "cell_type": "code",
   "execution_count": 2,
   "metadata": {},
   "outputs": [
    {
     "name": "stderr",
     "output_type": "stream",
     "text": [
      "[nltk_data] Downloading package punkt to\n",
      "[nltk_data]     /Users/alessiogandelli/nltk_data...\n",
      "[nltk_data]   Package punkt is already up-to-date!\n"
     ]
    }
   ],
   "source": [
    "from evaluation import Trainer, DataLoader"
   ]
  },
  {
   "attachments": {},
   "cell_type": "markdown",
   "metadata": {
    "id": "YLvF2devjGZt"
   },
   "source": [
    "## Climate\n",
    "Using our `DataLoader` we can prepare the documents and save them in an OCTIS-based format: "
   ]
  },
  {
   "cell_type": "code",
   "execution_count": 4,
   "metadata": {
    "colab": {
     "base_uri": "https://localhost:8080/"
    },
    "id": "N-X1poWssOoQ",
    "outputId": "5c6b14ff-0ce3-43f0-d18e-fa3952cba31b"
   },
   "outputs": [
    {
     "name": "stdout",
     "output_type": "stream",
     "text": [
      "Loading climate data\n",
      "created vocab\n",
      "5225\n",
      "words filtering done\n",
      "CPU times: user 1.33 s, sys: 91.1 ms, total: 1.42 s\n",
      "Wall time: 2.72 s\n"
     ]
    }
   ],
   "source": [
    "%%time\n",
    "dataloader = DataLoader(dataset=\"climate\").prepare_docs(save=\"climate.txt\").preprocess_octis(output_folder=\"climate\")"
   ]
  },
  {
   "cell_type": "code",
   "execution_count": null,
   "metadata": {
    "colab": {
     "base_uri": "https://localhost:8080/"
    },
    "id": "-exAptIjqBrO",
    "outputId": "56773d61-3810-4ef4-9f20-9ee339c08faa"
   },
   "outputs": [
    {
     "name": "stdout",
     "output_type": "stream",
     "text": [
      "created vocab\n",
      "69447\n",
      "words filtering done\n",
      "CPU times: user 22min, sys: 21.5 s, total: 22min 21s\n",
      "Wall time: 22min 22s\n"
     ]
    }
   ],
   "source": [
    "%%time\n",
    "dataloader = DataLoader(dataset=\"un_dtm\").prepare_docs(save=\"un_dtm.txt\").preprocess_octis(output_folder=\"un_dtm\")"
   ]
  },
  {
   "cell_type": "markdown",
   "metadata": {
    "id": "GRJJvgHyjYa6"
   },
   "source": [
    "# 2. **Evaluation**\n",
    "After preparing our data, we can start evaluating the topic models as used in the experiments. OCTIS already has a number of models prepared that we can use directly as shown below. \n",
    "\n",
    "First, we specify what the dataset is and whether that was a custom dataset not found in OCTIS. To run our custom trump dataset, we run `dataset, custom = \"trump\", True`. In contrast, if we are to use the prepackaged 20NewsGroup dataset, we run `dataset, custom = \"20NewsGroup\", False` instead. \n",
    "\n",
    "The OCTIS datasets can be found [here](https://github.com/MIND-Lab/OCTIS#available-datasets). \n",
    "\n",
    "Second, we define a number of parameters to be used for the model. It uses the following format: \n",
    "\n",
    "`params = {\"num_topics\": [(i+1)*10 for i in range(5)], \"random_state\": random_state}`\n",
    "\n",
    "were we define a number of topics to loop over and calculate the evluation metrics but also define a number of parameters used in the models. \n",
    "\n",
    "#### **Parameters**\n",
    "The parameters for LDA and NMF:\n",
    "\n",
    "\n",
    "```python\n",
    "params = {\"num_topics\": [(i+1)*10 for i in range(5)], \"random_state\": random_state}`\n",
    "```\n",
    "\n",
    "The parameters for Top2Vec:\n",
    "\n",
    "```python\n",
    "params = {\"nr_topics\": [(i+1)*10 for i in range(5)],\n",
    "          \"hdbscan_args\": {'min_cluster_size': 15,\n",
    "                            'metric': 'euclidean',\n",
    "                            'cluster_selection_method': 'eom'}}\n",
    "```\n",
    "Note that the `min_cluster_size` is 15 for all datasets except BBC_News.\n",
    "\n",
    "The parameters for CTM:\n",
    "\n",
    "```python\n",
    "params = {\n",
    "    \"n_components\": [(i+1)*10 for i in range(5)],\n",
    "    \"contextual_size\":768\n",
    "}\n",
    "```\n",
    "\n",
    "The parameters for BERTopic:\n",
    "\n",
    "```python\n",
    "params = {\n",
    "    \"nr_topics\": [(i+1)*10 for i in range(5)],\n",
    "    \"min_topic_size\": 15,\n",
    "    \"verbose\": True\n",
    "}\n",
    "```\n",
    "\n",
    "Note that the `min_topic_size` is 15 for all datasets except BBC_News. Note that we do not set a `embedding_model` here. We do this on purpose as we can generate the embeddings beforehand and pass those to BERTopic. "
   ]
  },
  {
   "cell_type": "markdown",
   "metadata": {
    "id": "ZOhlHj4SGush"
   },
   "source": [
    "## **OCTIS**\n",
    "Here, we can run the experiments for NMF and LDA. "
   ]
  },
  {
   "cell_type": "markdown",
   "metadata": {
    "id": "Hu1kVxBhA4iY"
   },
   "source": [
    "#### NMF"
   ]
  },
  {
   "cell_type": "code",
   "execution_count": 6,
   "metadata": {
    "id": "AOZl2Xoed_3a"
   },
   "outputs": [
    {
     "name": "stdout",
     "output_type": "stream",
     "text": [
      "Results\n",
      "============\n",
      "npmi: -0.05603186703787161\n",
      "diversity: 0.47\n",
      " \n",
      "Results\n",
      "============\n",
      "npmi: -0.04093330696194557\n",
      "diversity: 0.475\n",
      " \n",
      "Results\n",
      "============\n",
      "npmi: -0.04475179399892415\n",
      "diversity: 0.41\n",
      " \n",
      "Results\n",
      "============\n",
      "npmi: -0.07069132820451146\n",
      "diversity: 0.3675\n",
      " \n",
      "Results\n",
      "============\n",
      "npmi: -0.05190434104957615\n",
      "diversity: 0.392\n",
      " \n",
      "Results\n",
      "============\n",
      "npmi: -0.05631840316969816\n",
      "diversity: 0.5\n",
      " \n",
      "Results\n",
      "============\n",
      "npmi: -0.0684209728954257\n",
      "diversity: 0.43\n",
      " \n",
      "Results\n",
      "============\n",
      "npmi: -0.05425098973475934\n",
      "diversity: 0.37333333333333335\n",
      " \n",
      "Results\n",
      "============\n",
      "npmi: -0.05317002138686715\n",
      "diversity: 0.3875\n",
      " \n",
      "Results\n",
      "============\n",
      "npmi: -0.07643445436005926\n",
      "diversity: 0.382\n",
      " \n",
      "Results\n",
      "============\n",
      "npmi: -0.0309767664156465\n",
      "diversity: 0.5\n",
      " \n",
      "Results\n",
      "============\n",
      "npmi: -0.07403645270712103\n",
      "diversity: 0.405\n",
      " \n",
      "Results\n",
      "============\n",
      "npmi: -0.06447445313296334\n",
      "diversity: 0.39\n",
      " \n",
      "Results\n",
      "============\n",
      "npmi: -0.055027317482541485\n",
      "diversity: 0.415\n",
      " \n",
      "Results\n",
      "============\n",
      "npmi: -0.06521831805369326\n",
      "diversity: 0.386\n",
      " \n"
     ]
    }
   ],
   "source": [
    "for i, random_state in enumerate([0, 21, 42]):\n",
    "    dataset, custom = \"climate\", True\n",
    "    params = {\"num_topics\": [(i+1)*10 for i in range(5)], \"random_state\": random_state}\n",
    "\n",
    "    trainer = Trainer(dataset=dataset,\n",
    "                      model_name=\"NMF\",\n",
    "                      params=params,\n",
    "                      custom_dataset=custom,\n",
    "                      verbose=True)\n",
    "    results = trainer.train(save=f\"NMF_trump_{i+1}\")"
   ]
  },
  {
   "cell_type": "markdown",
   "metadata": {
    "id": "l8s9zjC5A6JD"
   },
   "source": [
    "#### LDA"
   ]
  },
  {
   "cell_type": "code",
   "execution_count": 12,
   "metadata": {
    "id": "uAZ_ckYBeFDY"
   },
   "outputs": [
    {
     "name": "stdout",
     "output_type": "stream",
     "text": [
      "Results\n",
      "============\n",
      "npmi: -0.03375526051098856\n",
      "diversity: 0.25\n",
      " \n",
      "Results\n",
      "============\n",
      "npmi: -0.027672619656356534\n",
      "diversity: 0.185\n",
      " \n",
      "Results\n",
      "============\n",
      "npmi: -0.038811510855194374\n",
      "diversity: 0.15666666666666668\n",
      " \n",
      "Results\n",
      "============\n",
      "npmi: -0.038554992738596625\n",
      "diversity: 0.1425\n",
      " \n",
      "Results\n",
      "============\n",
      "npmi: -0.04854904207078382\n",
      "diversity: 0.152\n",
      " \n",
      "Results\n",
      "============\n",
      "npmi: -0.03133763429252951\n",
      "diversity: 0.25\n",
      " \n",
      "Results\n",
      "============\n",
      "npmi: -0.03644984526176739\n",
      "diversity: 0.185\n",
      " \n",
      "Results\n",
      "============\n",
      "npmi: -0.041992068543786204\n",
      "diversity: 0.15333333333333332\n",
      " \n",
      "Results\n",
      "============\n",
      "npmi: -0.042552408782688976\n",
      "diversity: 0.15\n",
      " \n",
      "Results\n",
      "============\n",
      "npmi: -0.050066544594813925\n",
      "diversity: 0.17\n",
      " \n",
      "Results\n",
      "============\n",
      "npmi: -0.040218373898912994\n",
      "diversity: 0.25\n",
      " \n",
      "Results\n",
      "============\n",
      "npmi: -0.03462023351900684\n",
      "diversity: 0.19\n",
      " \n",
      "Results\n",
      "============\n",
      "npmi: -0.0406568512150982\n",
      "diversity: 0.16\n",
      " \n",
      "Results\n",
      "============\n",
      "npmi: -0.04640165888202994\n",
      "diversity: 0.1975\n",
      " \n",
      "Results\n",
      "============\n",
      "npmi: -0.04643163547300727\n",
      "diversity: 0.154\n",
      " \n"
     ]
    }
   ],
   "source": [
    "for i, random_state in enumerate([0, 21, 42]):\n",
    "    dataset, custom = \"climate\", True\n",
    "    params = {\"num_topics\": [(i+1)*10 for i in range(5)], \"random_state\": random_state}\n",
    "\n",
    "    trainer = Trainer(dataset=dataset,\n",
    "                      model_name=\"LDA\",\n",
    "                      params=params,\n",
    "                      custom_dataset=custom,\n",
    "                      verbose=True)\n",
    "    results = trainer.train(save=f\"LDA_trump_{i+1}\")"
   ]
  },
  {
   "cell_type": "markdown",
   "metadata": {
    "id": "CGhfpkBZGtRl"
   },
   "source": [
    "## **BERTopic**\n",
    "\n",
    "To speed up BERTopic, we can generate the embeddings before passing it to the `Trainer`. This way, the same embeddings do not have to be generated 5 times which speeds up evaluation quite a bit. "
   ]
  },
  {
   "cell_type": "code",
   "execution_count": 13,
   "metadata": {
    "id": "XhFXGK8oxVpi"
   },
   "outputs": [],
   "source": [
    "%%capture\n",
    "from sentence_transformers import SentenceTransformer\n",
    "\n",
    "# Prepare data\n",
    "dataset, custom = \"climate\", True\n",
    "data_loader = DataLoader(dataset)\n",
    "_, timestamps = data_loader.load_docs()\n",
    "data = data_loader.load_octis(custom)\n",
    "data = [\" \".join(words) for words in data.get_corpus()]\n",
    "\n"
   ]
  },
  {
   "cell_type": "code",
   "execution_count": 16,
   "metadata": {},
   "outputs": [
    {
     "data": {
      "application/vnd.jupyter.widget-view+json": {
       "model_id": "64f8bff1a6d044bb9ae0b5f0febcc88d",
       "version_major": 2,
       "version_minor": 0
      },
      "text/plain": [
       "Batches:   0%|          | 0/53 [00:00<?, ?it/s]"
      ]
     },
     "metadata": {},
     "output_type": "display_data"
    }
   ],
   "source": [
    "# Extract embeddings\n",
    "bert_model = SentenceTransformer(\"all-MiniLM-L6-v2\")\n",
    "embeddings = bert_model.encode(data, show_progress_bar=True)"
   ]
  },
  {
   "cell_type": "markdown",
   "metadata": {
    "id": "nb1afGtJEuw0"
   },
   "source": [
    "As show above, we load in the `data` which the data loader and combine the tokens in each document to generate our training data. Then, we pass it to the sentence transformer model of our choice and generate the embeddings. \n",
    "\n",
    "Next, we pass these embeddings to the `bt_embeddings` parameter to speed up training: "
   ]
  },
  {
   "cell_type": "code",
   "execution_count": 19,
   "metadata": {
    "id": "II0a3WJP37V0"
   },
   "outputs": [
    {
     "name": "stderr",
     "output_type": "stream",
     "text": [
      "2023-03-15 17:45:43,654 - BERTopic - Reduced dimensionality\n",
      "2023-03-15 17:45:43,951 - BERTopic - Clustered reduced embeddings\n",
      "2023-03-15 17:45:47,081 - BERTopic - Reduced number of topics from 23 to 10\n"
     ]
    },
    {
     "name": "stdout",
     "output_type": "stream",
     "text": [
      "Results\n",
      "============\n",
      "npmi: -0.07073105062034826\n",
      "diversity: 0.8111111111111111\n",
      " \n"
     ]
    },
    {
     "name": "stderr",
     "output_type": "stream",
     "text": [
      "2023-03-15 17:46:02,765 - BERTopic - Reduced dimensionality\n",
      "2023-03-15 17:46:02,918 - BERTopic - Clustered reduced embeddings\n",
      "2023-03-15 17:46:04,967 - BERTopic - Reduced number of topics from 21 to 20\n"
     ]
    },
    {
     "name": "stdout",
     "output_type": "stream",
     "text": [
      "Results\n",
      "============\n",
      "npmi: 0.06707825585125478\n",
      "diversity: 0.8210526315789474\n",
      " \n"
     ]
    },
    {
     "name": "stderr",
     "output_type": "stream",
     "text": [
      "2023-03-15 17:46:20,988 - BERTopic - Reduced dimensionality\n",
      "2023-03-15 17:46:21,154 - BERTopic - Clustered reduced embeddings\n",
      "2023-03-15 17:46:21,603 - BERTopic - Reduced number of topics from 4 to 4\n"
     ]
    },
    {
     "name": "stdout",
     "output_type": "stream",
     "text": [
      "Results\n",
      "============\n",
      "npmi: 0.26655536540664176\n",
      "diversity: 0.9666666666666667\n",
      " \n"
     ]
    },
    {
     "name": "stderr",
     "output_type": "stream",
     "text": [
      "2023-03-15 17:46:38,000 - BERTopic - Reduced dimensionality\n",
      "2023-03-15 17:46:38,252 - BERTopic - Clustered reduced embeddings\n",
      "2023-03-15 17:46:38,971 - BERTopic - Reduced number of topics from 4 to 4\n"
     ]
    },
    {
     "name": "stdout",
     "output_type": "stream",
     "text": [
      "Results\n",
      "============\n",
      "npmi: 0.26655536540664176\n",
      "diversity: 0.9666666666666667\n",
      " \n"
     ]
    },
    {
     "name": "stderr",
     "output_type": "stream",
     "text": [
      "2023-03-15 17:46:55,431 - BERTopic - Reduced dimensionality\n",
      "2023-03-15 17:46:55,584 - BERTopic - Clustered reduced embeddings\n",
      "2023-03-15 17:46:56,719 - BERTopic - Reduced number of topics from 23 to 23\n"
     ]
    },
    {
     "name": "stdout",
     "output_type": "stream",
     "text": [
      "Results\n",
      "============\n",
      "npmi: 0.06764701045924498\n",
      "diversity: 0.8090909090909091\n",
      " \n"
     ]
    },
    {
     "name": "stderr",
     "output_type": "stream",
     "text": [
      "2023-03-15 17:47:13,540 - BERTopic - Reduced dimensionality\n",
      "2023-03-15 17:47:13,729 - BERTopic - Clustered reduced embeddings\n",
      "2023-03-15 17:47:14,168 - BERTopic - Reduced number of topics from 4 to 4\n"
     ]
    },
    {
     "name": "stdout",
     "output_type": "stream",
     "text": [
      "Results\n",
      "============\n",
      "npmi: 0.21626427024596295\n",
      "diversity: 1.0\n",
      " \n"
     ]
    },
    {
     "name": "stderr",
     "output_type": "stream",
     "text": [
      "2023-03-15 17:47:28,594 - BERTopic - Reduced dimensionality\n",
      "2023-03-15 17:47:28,780 - BERTopic - Clustered reduced embeddings\n",
      "2023-03-15 17:47:29,222 - BERTopic - Reduced number of topics from 4 to 4\n"
     ]
    },
    {
     "name": "stdout",
     "output_type": "stream",
     "text": [
      "Results\n",
      "============\n",
      "npmi: 0.21626427024596295\n",
      "diversity: 1.0\n",
      " \n"
     ]
    },
    {
     "name": "stderr",
     "output_type": "stream",
     "text": [
      "2023-03-15 17:47:51,285 - BERTopic - Reduced dimensionality\n",
      "2023-03-15 17:47:51,476 - BERTopic - Clustered reduced embeddings\n",
      "2023-03-15 17:47:53,289 - BERTopic - Reduced number of topics from 23 to 23\n"
     ]
    },
    {
     "name": "stdout",
     "output_type": "stream",
     "text": [
      "Results\n",
      "============\n",
      "npmi: 0.059599982325588156\n",
      "diversity: 0.8181818181818182\n",
      " \n"
     ]
    },
    {
     "name": "stderr",
     "output_type": "stream",
     "text": [
      "2023-03-15 17:48:11,738 - BERTopic - Reduced dimensionality\n",
      "2023-03-15 17:48:11,923 - BERTopic - Clustered reduced embeddings\n",
      "2023-03-15 17:48:12,264 - BERTopic - Reduced number of topics from 4 to 4\n"
     ]
    },
    {
     "name": "stdout",
     "output_type": "stream",
     "text": [
      "Results\n",
      "============\n",
      "npmi: 0.26655536540664176\n",
      "diversity: 0.9666666666666667\n",
      " \n"
     ]
    },
    {
     "name": "stderr",
     "output_type": "stream",
     "text": [
      "2023-03-15 17:48:27,260 - BERTopic - Reduced dimensionality\n",
      "2023-03-15 17:48:27,460 - BERTopic - Clustered reduced embeddings\n",
      "2023-03-15 17:48:27,821 - BERTopic - Reduced number of topics from 4 to 4\n"
     ]
    },
    {
     "name": "stdout",
     "output_type": "stream",
     "text": [
      "Results\n",
      "============\n",
      "npmi: 0.26655536540664176\n",
      "diversity: 0.9666666666666667\n",
      " \n"
     ]
    },
    {
     "name": "stderr",
     "output_type": "stream",
     "text": [
      "2023-03-15 17:48:42,626 - BERTopic - Reduced dimensionality\n",
      "2023-03-15 17:48:42,811 - BERTopic - Clustered reduced embeddings\n",
      "2023-03-15 17:48:43,225 - BERTopic - Reduced number of topics from 4 to 4\n"
     ]
    },
    {
     "name": "stdout",
     "output_type": "stream",
     "text": [
      "Results\n",
      "============\n",
      "npmi: 0.21626427024596295\n",
      "diversity: 1.0\n",
      " \n"
     ]
    },
    {
     "name": "stderr",
     "output_type": "stream",
     "text": [
      "2023-03-15 17:48:59,246 - BERTopic - Reduced dimensionality\n",
      "2023-03-15 17:48:59,462 - BERTopic - Clustered reduced embeddings\n",
      "2023-03-15 17:48:59,988 - BERTopic - Reduced number of topics from 4 to 4\n"
     ]
    },
    {
     "name": "stdout",
     "output_type": "stream",
     "text": [
      "Results\n",
      "============\n",
      "npmi: 0.26655536540664176\n",
      "diversity: 0.9666666666666667\n",
      " \n"
     ]
    },
    {
     "name": "stderr",
     "output_type": "stream",
     "text": [
      "2023-03-15 17:49:14,763 - BERTopic - Reduced dimensionality\n",
      "2023-03-15 17:49:14,942 - BERTopic - Clustered reduced embeddings\n",
      "2023-03-15 17:49:15,354 - BERTopic - Reduced number of topics from 4 to 4\n"
     ]
    },
    {
     "name": "stdout",
     "output_type": "stream",
     "text": [
      "Results\n",
      "============\n",
      "npmi: 0.21626427024596295\n",
      "diversity: 1.0\n",
      " \n"
     ]
    },
    {
     "name": "stderr",
     "output_type": "stream",
     "text": [
      "2023-03-15 17:49:30,204 - BERTopic - Reduced dimensionality\n",
      "2023-03-15 17:49:30,405 - BERTopic - Clustered reduced embeddings\n",
      "2023-03-15 17:49:31,130 - BERTopic - Reduced number of topics from 5 to 5\n"
     ]
    },
    {
     "name": "stdout",
     "output_type": "stream",
     "text": [
      "Results\n",
      "============\n",
      "npmi: 0.2676503800027916\n",
      "diversity: 0.975\n",
      " \n"
     ]
    },
    {
     "name": "stderr",
     "output_type": "stream",
     "text": [
      "2023-03-15 17:49:47,837 - BERTopic - Reduced dimensionality\n",
      "2023-03-15 17:49:48,042 - BERTopic - Clustered reduced embeddings\n",
      "2023-03-15 17:49:48,354 - BERTopic - Reduced number of topics from 4 to 4\n"
     ]
    },
    {
     "name": "stdout",
     "output_type": "stream",
     "text": [
      "Results\n",
      "============\n",
      "npmi: 0.21626427024596295\n",
      "diversity: 1.0\n",
      " \n"
     ]
    }
   ],
   "source": [
    "for i in range(3):\n",
    "    params = {\n",
    "        \"embedding_model\": \"all-MiniLM-L6-v2\",\n",
    "        \"nr_topics\": [(i+1)*10 for i in range(5)],\n",
    "        \"min_topic_size\": 15,\n",
    "        \n",
    "        \"verbose\": True\n",
    "    }\n",
    "\n",
    "    trainer = Trainer(dataset=dataset,\n",
    "                      model_name=\"BERTopic\",\n",
    "                      params=params,\n",
    "                      bt_embeddings=embeddings,\n",
    "                      custom_dataset=custom,\n",
    "                      verbose=True)\n",
    "    results = trainer.train(save=f\"BERTopic_MiniLM_{i+1}\")"
   ]
  },
  {
   "cell_type": "markdown",
   "metadata": {
    "id": "xpyBVa1Ka9Hw"
   },
   "source": [
    "## **Top2Vec**\n",
    "Aside from its Doc2Vec backend, we also want to explore its performance using the `\"all-mpnet-base-v2\"` SBERT model as that was used in BERTopic. To do so, we make a very slight change to the core code of Top2Vec, namely replacing all instances of `\"\"distiluse-base-multilingual-cased\"` with `\"all-mpnet-base-v2\"`:"
   ]
  },
  {
   "cell_type": "code",
   "execution_count": 22,
   "metadata": {
    "id": "Pc-PXbV205R3"
   },
   "outputs": [],
   "source": [
    "import logging\n",
    "import numpy as np\n",
    "import pandas as pd\n",
    "from gensim.models.doc2vec import Doc2Vec, TaggedDocument\n",
    "from gensim.utils import simple_preprocess\n",
    "from gensim.parsing.preprocessing import strip_tags\n",
    "import umap\n",
    "import hdbscan\n",
    "from wordcloud import WordCloud\n",
    "import matplotlib.pyplot as plt\n",
    "from joblib import dump, load\n",
    "from sklearn.cluster import dbscan\n",
    "import tempfile\n",
    "from sklearn.feature_extraction.text import CountVectorizer\n",
    "from sklearn.preprocessing import normalize\n",
    "from scipy.special import softmax\n",
    "from top2vec import Top2Vec\n",
    "\n",
    "try:\n",
    "    import hnswlib\n",
    "\n",
    "    _HAVE_HNSWLIB = True\n",
    "except ImportError:\n",
    "    _HAVE_HNSWLIB = False\n",
    "\n",
    "try:\n",
    "    import tensorflow as tf\n",
    "    import tensorflow_hub as hub\n",
    "    import tensorflow_text\n",
    "\n",
    "    _HAVE_TENSORFLOW = True\n",
    "except ImportError:\n",
    "    _HAVE_TENSORFLOW = False\n",
    "\n",
    "try:\n",
    "    from sentence_transformers import SentenceTransformer\n",
    "\n",
    "    _HAVE_TORCH = True\n",
    "except ImportError:\n",
    "    _HAVE_TORCH = False\n",
    "\n",
    "logger = logging.getLogger('top2vec')\n",
    "logger.setLevel(logging.WARNING)\n",
    "sh = logging.StreamHandler()\n",
    "sh.setFormatter(logging.Formatter('%(asctime)s - %(name)s - %(levelname)s - %(message)s'))\n",
    "logger.addHandler(sh)\n",
    "\n",
    "\n",
    "def default_tokenizer(doc):\n",
    "    \"\"\"Tokenize documents for training and remove too long/short words\"\"\"\n",
    "    return simple_preprocess(strip_tags(doc), deacc=True)\n",
    "\n",
    "\n",
    "class Top2VecNew(Top2Vec):\n",
    "    \"\"\"\n",
    "    Top2Vec\n",
    "    Creates jointly embedded topic, document and word vectors.\n",
    "    Parameters\n",
    "    ----------\n",
    "    embedding_model: string\n",
    "        This will determine which model is used to generate the document and\n",
    "        word embeddings. The valid string options are:\n",
    "            * doc2vec\n",
    "            * universal-sentence-encoder\n",
    "            * universal-sentence-encoder-multilingual\n",
    "            * distiluse-base-multilingual-cased\n",
    "        For large data sets and data sets with very unique vocabulary doc2vec\n",
    "        could produce better results. This will train a doc2vec model from\n",
    "        scratch. This method is language agnostic. However multiple languages\n",
    "        will not be aligned.\n",
    "        Using the universal sentence encoder options will be much faster since\n",
    "        those are pre-trained and efficient models. The universal sentence\n",
    "        encoder options are suggested for smaller data sets. They are also\n",
    "        good options for large data sets that are in English or in languages\n",
    "        covered by the multilingual model. It is also suggested for data sets\n",
    "        that are multilingual.\n",
    "        For more information on universal-sentence-encoder visit:\n",
    "        https://tfhub.dev/google/universal-sentence-encoder/4\n",
    "        For more information on universal-sentence-encoder-multilingual visit:\n",
    "        https://tfhub.dev/google/universal-sentence-encoder-multilingual/3\n",
    "        The distiluse-base-multilingual-cased pre-trained sentence transformer\n",
    "        is suggested for multilingual datasets and languages that are not\n",
    "        covered by the multilingual universal sentence encoder. The\n",
    "        transformer is significantly slower than the universal sentence\n",
    "        encoder options.\n",
    "        For more informati ond istiluse-base-multilingual-cased visit:\n",
    "        https://www.sbert.net/docs/pretrained_models.html\n",
    "    embedding_model_path: string (Optional)\n",
    "        Pre-trained embedding models will be downloaded automatically by\n",
    "        default. However they can also be uploaded from a file that is in the\n",
    "        location of embedding_model_path.\n",
    "        Warning: the model at embedding_model_path must match the\n",
    "        embedding_model parameter type.\n",
    "    documents: List of str\n",
    "        Input corpus, should be a list of strings.\n",
    "    min_count: int (Optional, default 50)\n",
    "        Ignores all words with total frequency lower than this. For smaller\n",
    "        corpora a smaller min_count will be necessary.\n",
    "    speed: string (Optional, default 'learn')\n",
    "        This parameter is only used when using doc2vec as embedding_model.\n",
    "        It will determine how fast the model takes to train. The\n",
    "        fast-learn option is the fastest and will generate the lowest quality\n",
    "        vectors. The learn option will learn better quality vectors but take\n",
    "        a longer time to train. The deep-learn option will learn the best\n",
    "        quality vectors but will take significant time to train. The valid\n",
    "        string speed options are:\n",
    "        \n",
    "            * fast-learn\n",
    "            * learn\n",
    "            * deep-learn\n",
    "    use_corpus_file: bool (Optional, default False)\n",
    "        This parameter is only used when using doc2vec as embedding_model.\n",
    "        Setting use_corpus_file to True can sometimes provide speedup for\n",
    "        large datasets when multiple worker threads are available. Documents\n",
    "        are still passed to the model as a list of str, the model will create\n",
    "        a temporary corpus file for training.\n",
    "    document_ids: List of str, int (Optional)\n",
    "        A unique value per document that will be used for referring to\n",
    "        documents in search results. If ids are not given to the model, the\n",
    "        index of each document in the original corpus will become the id.\n",
    "    keep_documents: bool (Optional, default True)\n",
    "        If set to False documents will only be used for training and not saved\n",
    "        as part of the model. This will reduce model size. When using search\n",
    "        functions only document ids will be returned, not the actual\n",
    "        documents.\n",
    "    workers: int (Optional)\n",
    "        The amount of worker threads to be used in training the model. Larger\n",
    "        amount will lead to faster training.\n",
    "    \n",
    "    tokenizer: callable (Optional, default None)\n",
    "        Override the default tokenization method. If None then\n",
    "        gensim.utils.simple_preprocess will be used.\n",
    "    use_embedding_model_tokenizer: bool (Optional, default False)\n",
    "        If using an embedding model other than doc2vec, use the model's\n",
    "        tokenizer for document embedding. If set to True the tokenizer, either\n",
    "        default or passed callable will be used to tokenize the text to\n",
    "        extract the vocabulary for word embedding.\n",
    "    umap_args: dict (Optional, default None)\n",
    "        Pass custom arguments to UMAP.\n",
    "    hdbscan_args: dict (Optional, default None)\n",
    "        Pass custom arguments to HDBSCAN.\n",
    "    \n",
    "    verbose: bool (Optional, default True)\n",
    "        Whether to print status data during training.\n",
    "    \"\"\"\n",
    "\n",
    "    def __init__(self,\n",
    "                 documents,\n",
    "                 min_count=50,\n",
    "                 embedding_model='doc2vec',\n",
    "                 embedding_model_path=None,\n",
    "                 speed='learn',\n",
    "                 use_corpus_file=False,\n",
    "                 document_ids=None,\n",
    "                 keep_documents=True,\n",
    "                 workers=None,\n",
    "                 tokenizer=None,\n",
    "                 use_embedding_model_tokenizer=False,\n",
    "                 umap_args=None,\n",
    "                 hdbscan_args=None,\n",
    "                 verbose=True\n",
    "                 ):\n",
    "\n",
    "        if verbose:\n",
    "            logger.setLevel(logging.DEBUG)\n",
    "            self.verbose = True\n",
    "        else:\n",
    "            logger.setLevel(logging.WARNING)\n",
    "            self.verbose = False\n",
    "\n",
    "        if tokenizer is None:\n",
    "            tokenizer = default_tokenizer\n",
    "\n",
    "        # validate documents\n",
    "        if not (isinstance(documents, list) or isinstance(documents, np.ndarray)):\n",
    "            raise ValueError(\"Documents need to be a list of strings\")\n",
    "        if not all((isinstance(doc, str) or isinstance(doc, np.str_)) for doc in documents):\n",
    "            raise ValueError(\"Documents need to be a list of strings\")\n",
    "        if keep_documents:\n",
    "            self.documents = np.array(documents, dtype=\"object\")\n",
    "        else:\n",
    "            self.documents = None\n",
    "\n",
    "        # validate document ids\n",
    "        if document_ids is not None:\n",
    "            if not (isinstance(document_ids, list) or isinstance(document_ids, np.ndarray)):\n",
    "                raise ValueError(\"Documents ids need to be a list of str or int\")\n",
    "\n",
    "            if len(documents) != len(document_ids):\n",
    "                raise ValueError(\"Document ids need to match number of documents\")\n",
    "            elif len(document_ids) != len(set(document_ids)):\n",
    "                raise ValueError(\"Document ids need to be unique\")\n",
    "\n",
    "            if all((isinstance(doc_id, str) or isinstance(doc_id, np.str_)) for doc_id in document_ids):\n",
    "                self.doc_id_type = np.str_\n",
    "            elif all((isinstance(doc_id, int) or isinstance(doc_id, np.int_)) for doc_id in document_ids):\n",
    "                self.doc_id_type = np.int_\n",
    "            else:\n",
    "                raise ValueError(\"Document ids need to be str or int\")\n",
    "\n",
    "            self.document_ids_provided = True\n",
    "            self.document_ids = np.array(document_ids)\n",
    "            self.doc_id2index = dict(zip(document_ids, list(range(0, len(document_ids)))))\n",
    "        else:\n",
    "            self.document_ids_provided = False\n",
    "            self.document_ids = np.array(range(0, len(documents)))\n",
    "            self.doc_id2index = dict(zip(self.document_ids, list(range(0, len(self.document_ids)))))\n",
    "            self.doc_id_type = np.int_\n",
    "\n",
    "        acceptable_embedding_models = [\"universal-sentence-encoder-multilingual\",\n",
    "                                       \"universal-sentence-encoder\",\n",
    "                                       \"all-MiniLM-L6-v2\"]\n",
    "\n",
    "        self.embedding_model_path = embedding_model_path\n",
    "\n",
    "        if embedding_model == 'doc2vec':\n",
    "\n",
    "            # validate training inputs\n",
    "            if speed == \"fast-learn\":\n",
    "                hs = 0\n",
    "                negative = 5\n",
    "                epochs = 40\n",
    "            elif speed == \"learn\":\n",
    "                hs = 1\n",
    "                negative = 0\n",
    "                epochs = 40\n",
    "            elif speed == \"deep-learn\":\n",
    "                hs = 1\n",
    "                negative = 0\n",
    "                epochs = 400\n",
    "            elif speed == \"test-learn\":\n",
    "                hs = 0\n",
    "                negative = 5\n",
    "                epochs = 1\n",
    "            else:\n",
    "                raise ValueError(\"speed parameter needs to be one of: fast-learn, learn or deep-learn\")\n",
    "\n",
    "            if workers is None:\n",
    "                pass\n",
    "            elif isinstance(workers, int):\n",
    "                pass\n",
    "            else:\n",
    "                raise ValueError(\"workers needs to be an int\")\n",
    "\n",
    "            doc2vec_args = {\"vector_size\": 300,\n",
    "                            \"min_count\": min_count,\n",
    "                            \"window\": 15,\n",
    "                            \"sample\": 1e-5,\n",
    "                            \"negative\": negative,\n",
    "                            \"hs\": hs,\n",
    "                            \"epochs\": epochs,\n",
    "                            \"dm\": 0,\n",
    "                            \"dbow_words\": 1}\n",
    "\n",
    "            if workers is not None:\n",
    "                doc2vec_args[\"workers\"] = workers\n",
    "\n",
    "            logger.info('Pre-processing documents for training')\n",
    "\n",
    "            if use_corpus_file:\n",
    "                processed = [' '.join(tokenizer(doc)) for doc in documents]\n",
    "                lines = \"\\n\".join(processed)\n",
    "                temp = tempfile.NamedTemporaryFile(mode='w+t')\n",
    "                temp.write(lines)\n",
    "                doc2vec_args[\"corpus_file\"] = temp.name\n",
    "\n",
    "\n",
    "            else:\n",
    "                train_corpus = [TaggedDocument(tokenizer(doc), [i]) for i, doc in enumerate(documents)]\n",
    "                doc2vec_args[\"documents\"] = train_corpus\n",
    "\n",
    "            logger.info('Creating joint document/word embedding')\n",
    "            self.embedding_model = 'doc2vec'\n",
    "            self.model = Doc2Vec(**doc2vec_args)\n",
    "\n",
    "            if use_corpus_file:\n",
    "                temp.close()\n",
    "\n",
    "        elif embedding_model in acceptable_embedding_models:\n",
    "\n",
    "            self.embed = None\n",
    "            self.embedding_model = embedding_model\n",
    "\n",
    "            self._check_import_status()\n",
    "\n",
    "            logger.info('Pre-processing documents for training')\n",
    "\n",
    "            # preprocess documents\n",
    "            tokenized_corpus = [tokenizer(doc) for doc in documents]\n",
    "\n",
    "            def return_doc(doc):\n",
    "                return doc\n",
    "\n",
    "            # preprocess vocabulary\n",
    "            vectorizer = CountVectorizer(tokenizer=return_doc, preprocessor=return_doc)\n",
    "            doc_word_counts = vectorizer.fit_transform(tokenized_corpus)\n",
    "            words = vectorizer.get_feature_names()\n",
    "            word_counts = np.array(np.sum(doc_word_counts, axis=0).tolist()[0])\n",
    "            vocab_inds = np.where(word_counts > min_count)[0]\n",
    "\n",
    "            if len(vocab_inds) == 0:\n",
    "                raise ValueError(f\"A min_count of {min_count} results in \"\n",
    "                                 f\"all words being ignored, choose a lower value.\")\n",
    "            self.vocab = [words[ind] for ind in vocab_inds]\n",
    "\n",
    "            self._check_model_status()\n",
    "\n",
    "            logger.info('Creating joint document/word embedding')\n",
    "\n",
    "            # embed words\n",
    "            self.word_indexes = dict(zip(self.vocab, range(len(self.vocab))))\n",
    "            self.word_vectors = self._l2_normalize(np.array(self.embed(self.vocab)))\n",
    "\n",
    "            # embed documents\n",
    "            if use_embedding_model_tokenizer:\n",
    "                self.document_vectors = self._embed_documents(documents)\n",
    "            else:\n",
    "                train_corpus = [' '.join(tokens) for tokens in tokenized_corpus]\n",
    "                self.document_vectors = self._embed_documents(train_corpus)\n",
    "\n",
    "        else:\n",
    "            raise ValueError(f\"{embedding_model} is an invalid embedding model.\")\n",
    "\n",
    "        # create 5D embeddings of documents\n",
    "        logger.info('Creating lower dimension embedding of documents')\n",
    "\n",
    "        if umap_args is None:\n",
    "            umap_args = {'n_neighbors': 15,\n",
    "                         'n_components': 5,\n",
    "                         'metric': 'cosine'}\n",
    "\n",
    "        umap_model = umap.UMAP(**umap_args).fit(self._get_document_vectors(norm=False))\n",
    "\n",
    "        # find dense areas of document vectors\n",
    "        logger.info('Finding dense areas of documents')\n",
    "\n",
    "        if hdbscan_args is None:\n",
    "            hdbscan_args = {'min_cluster_size': 15,\n",
    "                            'metric': 'euclidean',\n",
    "                            'cluster_selection_method': 'eom'}\n",
    "\n",
    "        cluster = hdbscan.HDBSCAN(**hdbscan_args).fit(umap_model.embedding_)\n",
    "\n",
    "        # calculate topic vectors from dense areas of documents\n",
    "        logger.info('Finding topics')\n",
    "\n",
    "        # create topic vectors\n",
    "        self._create_topic_vectors(cluster.labels_)\n",
    "\n",
    "        # deduplicate topics\n",
    "        self._deduplicate_topics()\n",
    "\n",
    "        # find topic words and scores\n",
    "        self.topic_words, self.topic_word_scores = self._find_topic_words_and_scores(topic_vectors=self.topic_vectors)\n",
    "\n",
    "        # assign documents to topic\n",
    "        self.doc_top, self.doc_dist = self._calculate_documents_topic(self.topic_vectors,\n",
    "                                                                      self._get_document_vectors())\n",
    "\n",
    "        # calculate topic sizes\n",
    "        self.topic_sizes = self._calculate_topic_sizes(hierarchy=False)\n",
    "\n",
    "        # re-order topics\n",
    "        self._reorder_topics(hierarchy=False)\n",
    "\n",
    "        # initialize variables for hierarchical topic reduction\n",
    "        self.topic_vectors_reduced = None\n",
    "        self.doc_top_reduced = None\n",
    "        self.doc_dist_reduced = None\n",
    "        self.topic_sizes_reduced = None\n",
    "        self.topic_words_reduced = None\n",
    "        self.topic_word_scores_reduced = None\n",
    "        self.hierarchy = None\n",
    "\n",
    "        # initialize document indexing variables\n",
    "        self.document_index = None\n",
    "        self.serialized_document_index = None\n",
    "        self.documents_indexed = False\n",
    "        self.index_id2doc_id = None\n",
    "        self.doc_id2index_id = None\n",
    "\n",
    "        # initialize word indexing variables\n",
    "        self.word_index = None\n",
    "        self.serialized_word_index = None\n",
    "        self.words_indexed = False\n",
    "\n",
    "    def _check_import_status(self):\n",
    "        if self.embedding_model != 'all-MiniLM-L6-v2':\n",
    "            if not _HAVE_TENSORFLOW:\n",
    "                raise ImportError(f\"{self.embedding_model} is not available.\\n\\n\"\n",
    "                                  \"Try: pip install top2vec[sentence_encoders]\\n\\n\"\n",
    "                                  \"Alternatively try: pip install tensorflow tensorflow_hub tensorflow_text\")\n",
    "        else:\n",
    "            if not _HAVE_TORCH:\n",
    "                raise ImportError(f\"{self.embedding_model} is not available.\\n\\n\"\n",
    "                                  \"Try: pip install top2vec[sentence_transformers]\\n\\n\"\n",
    "                                  \"Alternatively try: pip install torch sentence_transformers\")\n",
    "\n",
    "    def _check_model_status(self):\n",
    "        if self.embed is None:\n",
    "            if self.verbose is False:\n",
    "                logger.setLevel(logging.DEBUG)\n",
    "\n",
    "            if self.embedding_model != \"all-MiniLM-L6-v2\":\n",
    "                if self.embedding_model_path is None:\n",
    "                    logger.info(f'Downloading {self.embedding_model} model')\n",
    "                    if self.embedding_model == \"universal-sentence-encoder-multilingual\":\n",
    "                        module = \"https://tfhub.dev/google/universal-sentence-encoder-multilingual/3\"\n",
    "                    else:\n",
    "                        module = \"https://tfhub.dev/google/universal-sentence-encoder/4\"\n",
    "                else:\n",
    "                    logger.info(f'Loading {self.embedding_model} model at {self.embedding_model_path}')\n",
    "                    module = self.embedding_model_path\n",
    "                self.embed = hub.load(module)\n",
    "\n",
    "            else:\n",
    "                if self.embedding_model_path is None:\n",
    "                    logger.info(f'Downloading {self.embedding_model} model')\n",
    "                    module = 'all-MiniLM-L6-v2'\n",
    "                else:\n",
    "                    logger.info(f'Loading {self.embedding_model} model at {self.embedding_model_path}')\n",
    "                    module = self.embedding_model_path\n",
    "                model = SentenceTransformer(module)\n",
    "                self.embed = model.encode\n",
    "\n",
    "        if self.verbose is False:\n",
    "            logger.setLevel(logging.WARNING)"
   ]
  },
  {
   "cell_type": "markdown",
   "metadata": {
    "id": "Oz16gmSjHcs6"
   },
   "source": [
    "We can then use this `Top2VecNew` class to run our experiments including the `\"all-mpnet-base-v2\"` model. "
   ]
  },
  {
   "cell_type": "code",
   "execution_count": 28,
   "metadata": {
    "id": "NdPp3Xsda_SJ"
   },
   "outputs": [
    {
     "name": "stderr",
     "output_type": "stream",
     "text": [
      "2023-03-15 18:22:45,262 - top2vec - INFO - Pre-processing documents for training\n",
      "2023-03-15 18:22:45,262 - top2vec - INFO - Pre-processing documents for training\n",
      "2023-03-15 18:22:49,231 - top2vec - INFO - Creating joint document/word embedding\n",
      "2023-03-15 18:22:49,231 - top2vec - INFO - Creating joint document/word embedding\n",
      "2023-03-15 18:22:56,962 - top2vec - INFO - Creating lower dimension embedding of documents\n",
      "2023-03-15 18:22:56,962 - top2vec - INFO - Creating lower dimension embedding of documents\n",
      "2023-03-15 18:23:18,582 - top2vec - INFO - Finding dense areas of documents\n",
      "2023-03-15 18:23:18,582 - top2vec - INFO - Finding dense areas of documents\n",
      "2023-03-15 18:23:19,097 - top2vec - INFO - Finding topics\n",
      "2023-03-15 18:23:19,097 - top2vec - INFO - Finding topics\n",
      "2023-03-15 18:23:19,887 - top2vec - INFO - Pre-processing documents for training\n",
      "2023-03-15 18:23:19,887 - top2vec - INFO - Pre-processing documents for training\n"
     ]
    },
    {
     "name": "stdout",
     "output_type": "stream",
     "text": [
      "Results\n",
      "============\n",
      "npmi: -0.12922219450162747\n",
      "diversity: 0.8\n",
      " \n"
     ]
    },
    {
     "name": "stderr",
     "output_type": "stream",
     "text": [
      "2023-03-15 18:23:20,443 - top2vec - INFO - Creating joint document/word embedding\n",
      "2023-03-15 18:23:20,443 - top2vec - INFO - Creating joint document/word embedding\n",
      "2023-03-15 18:23:28,614 - top2vec - INFO - Creating lower dimension embedding of documents\n",
      "2023-03-15 18:23:28,614 - top2vec - INFO - Creating lower dimension embedding of documents\n",
      "2023-03-15 18:23:51,268 - top2vec - INFO - Finding dense areas of documents\n",
      "2023-03-15 18:23:51,268 - top2vec - INFO - Finding dense areas of documents\n",
      "2023-03-15 18:23:51,534 - top2vec - INFO - Finding topics\n",
      "2023-03-15 18:23:51,534 - top2vec - INFO - Finding topics\n",
      "2023-03-15 18:23:52,844 - top2vec - INFO - Pre-processing documents for training\n",
      "2023-03-15 18:23:52,844 - top2vec - INFO - Pre-processing documents for training\n"
     ]
    },
    {
     "name": "stdout",
     "output_type": "stream",
     "text": [
      "Results\n",
      "============\n",
      "npmi: -0.16649268981896242\n",
      "diversity: 0.8\n",
      " \n"
     ]
    },
    {
     "name": "stderr",
     "output_type": "stream",
     "text": [
      "2023-03-15 18:23:53,638 - top2vec - INFO - Creating joint document/word embedding\n",
      "2023-03-15 18:23:53,638 - top2vec - INFO - Creating joint document/word embedding\n",
      "2023-03-15 18:24:02,347 - top2vec - INFO - Creating lower dimension embedding of documents\n",
      "2023-03-15 18:24:02,347 - top2vec - INFO - Creating lower dimension embedding of documents\n",
      "2023-03-15 18:24:22,124 - top2vec - INFO - Finding dense areas of documents\n",
      "2023-03-15 18:24:22,124 - top2vec - INFO - Finding dense areas of documents\n",
      "2023-03-15 18:24:22,465 - top2vec - INFO - Finding topics\n",
      "2023-03-15 18:24:22,465 - top2vec - INFO - Finding topics\n",
      "2023-03-15 18:24:23,270 - top2vec - INFO - Pre-processing documents for training\n",
      "2023-03-15 18:24:23,270 - top2vec - INFO - Pre-processing documents for training\n"
     ]
    },
    {
     "name": "stdout",
     "output_type": "stream",
     "text": [
      "Results\n",
      "============\n",
      "npmi: -0.14366363907558516\n",
      "diversity: 0.4666666666666667\n",
      " \n"
     ]
    },
    {
     "name": "stderr",
     "output_type": "stream",
     "text": [
      "2023-03-15 18:24:23,560 - top2vec - INFO - Creating joint document/word embedding\n",
      "2023-03-15 18:24:23,560 - top2vec - INFO - Creating joint document/word embedding\n",
      "2023-03-15 18:24:31,252 - top2vec - INFO - Creating lower dimension embedding of documents\n",
      "2023-03-15 18:24:31,252 - top2vec - INFO - Creating lower dimension embedding of documents\n",
      "2023-03-15 18:24:45,759 - top2vec - INFO - Finding dense areas of documents\n",
      "2023-03-15 18:24:45,759 - top2vec - INFO - Finding dense areas of documents\n",
      "2023-03-15 18:24:45,998 - top2vec - INFO - Finding topics\n",
      "2023-03-15 18:24:45,998 - top2vec - INFO - Finding topics\n",
      "2023-03-15 18:24:46,853 - top2vec - INFO - Pre-processing documents for training\n",
      "2023-03-15 18:24:46,853 - top2vec - INFO - Pre-processing documents for training\n"
     ]
    },
    {
     "name": "stdout",
     "output_type": "stream",
     "text": [
      "Results\n",
      "============\n",
      "npmi: -0.12642976149993565\n",
      "diversity: 0.42857142857142855\n",
      " \n"
     ]
    },
    {
     "name": "stderr",
     "output_type": "stream",
     "text": [
      "2023-03-15 18:24:47,614 - top2vec - INFO - Creating joint document/word embedding\n",
      "2023-03-15 18:24:47,614 - top2vec - INFO - Creating joint document/word embedding\n",
      "2023-03-15 18:24:55,948 - top2vec - INFO - Creating lower dimension embedding of documents\n",
      "2023-03-15 18:24:55,948 - top2vec - INFO - Creating lower dimension embedding of documents\n",
      "2023-03-15 18:25:11,973 - top2vec - INFO - Finding dense areas of documents\n",
      "2023-03-15 18:25:11,973 - top2vec - INFO - Finding dense areas of documents\n",
      "2023-03-15 18:25:12,260 - top2vec - INFO - Finding topics\n",
      "2023-03-15 18:25:12,260 - top2vec - INFO - Finding topics\n",
      "2023-03-15 18:25:13,117 - top2vec - INFO - Pre-processing documents for training\n",
      "2023-03-15 18:25:13,117 - top2vec - INFO - Pre-processing documents for training\n"
     ]
    },
    {
     "name": "stdout",
     "output_type": "stream",
     "text": [
      "Results\n",
      "============\n",
      "npmi: -0.10694083932972438\n",
      "diversity: 0.5166666666666667\n",
      " \n"
     ]
    },
    {
     "name": "stderr",
     "output_type": "stream",
     "text": [
      "2023-03-15 18:25:13,426 - top2vec - INFO - Creating joint document/word embedding\n",
      "2023-03-15 18:25:13,426 - top2vec - INFO - Creating joint document/word embedding\n",
      "2023-03-15 18:25:20,911 - top2vec - INFO - Creating lower dimension embedding of documents\n",
      "2023-03-15 18:25:20,911 - top2vec - INFO - Creating lower dimension embedding of documents\n",
      "2023-03-15 18:25:46,879 - top2vec - INFO - Finding dense areas of documents\n",
      "2023-03-15 18:25:46,879 - top2vec - INFO - Finding dense areas of documents\n",
      "2023-03-15 18:25:47,492 - top2vec - INFO - Finding topics\n",
      "2023-03-15 18:25:47,492 - top2vec - INFO - Finding topics\n",
      "2023-03-15 18:25:50,482 - top2vec - INFO - Pre-processing documents for training\n",
      "2023-03-15 18:25:50,482 - top2vec - INFO - Pre-processing documents for training\n"
     ]
    },
    {
     "name": "stdout",
     "output_type": "stream",
     "text": [
      "Results\n",
      "============\n",
      "npmi: -0.13399173608841577\n",
      "diversity: 0.4142857142857143\n",
      " \n"
     ]
    },
    {
     "name": "stderr",
     "output_type": "stream",
     "text": [
      "2023-03-15 18:25:52,166 - top2vec - INFO - Creating joint document/word embedding\n",
      "2023-03-15 18:25:52,166 - top2vec - INFO - Creating joint document/word embedding\n",
      "2023-03-15 18:26:01,314 - top2vec - INFO - Creating lower dimension embedding of documents\n",
      "2023-03-15 18:26:01,314 - top2vec - INFO - Creating lower dimension embedding of documents\n",
      "2023-03-15 18:26:20,733 - top2vec - INFO - Finding dense areas of documents\n",
      "2023-03-15 18:26:20,733 - top2vec - INFO - Finding dense areas of documents\n",
      "2023-03-15 18:26:21,192 - top2vec - INFO - Finding topics\n",
      "2023-03-15 18:26:21,192 - top2vec - INFO - Finding topics\n",
      "2023-03-15 18:26:22,973 - top2vec - INFO - Pre-processing documents for training\n",
      "2023-03-15 18:26:22,973 - top2vec - INFO - Pre-processing documents for training\n"
     ]
    },
    {
     "name": "stdout",
     "output_type": "stream",
     "text": [
      "Results\n",
      "============\n",
      "npmi: -0.14451484245069598\n",
      "diversity: 0.7666666666666667\n",
      " \n"
     ]
    },
    {
     "name": "stderr",
     "output_type": "stream",
     "text": [
      "2023-03-15 18:26:23,563 - top2vec - INFO - Creating joint document/word embedding\n",
      "2023-03-15 18:26:23,563 - top2vec - INFO - Creating joint document/word embedding\n",
      "2023-03-15 18:26:32,493 - top2vec - INFO - Creating lower dimension embedding of documents\n",
      "2023-03-15 18:26:32,493 - top2vec - INFO - Creating lower dimension embedding of documents\n",
      "2023-03-15 18:26:49,957 - top2vec - INFO - Finding dense areas of documents\n",
      "2023-03-15 18:26:49,957 - top2vec - INFO - Finding dense areas of documents\n",
      "2023-03-15 18:26:50,197 - top2vec - INFO - Finding topics\n",
      "2023-03-15 18:26:50,197 - top2vec - INFO - Finding topics\n",
      "2023-03-15 18:26:51,248 - top2vec - INFO - Pre-processing documents for training\n",
      "2023-03-15 18:26:51,248 - top2vec - INFO - Pre-processing documents for training\n"
     ]
    },
    {
     "name": "stdout",
     "output_type": "stream",
     "text": [
      "Results\n",
      "============\n",
      "npmi: -0.14478720769966877\n",
      "diversity: 0.4125\n",
      " \n"
     ]
    },
    {
     "name": "stderr",
     "output_type": "stream",
     "text": [
      "2023-03-15 18:26:51,897 - top2vec - INFO - Creating joint document/word embedding\n",
      "2023-03-15 18:26:51,897 - top2vec - INFO - Creating joint document/word embedding\n",
      "2023-03-15 18:26:58,666 - top2vec - INFO - Creating lower dimension embedding of documents\n",
      "2023-03-15 18:26:58,666 - top2vec - INFO - Creating lower dimension embedding of documents\n",
      "2023-03-15 18:27:12,962 - top2vec - INFO - Finding dense areas of documents\n",
      "2023-03-15 18:27:12,962 - top2vec - INFO - Finding dense areas of documents\n",
      "2023-03-15 18:27:13,218 - top2vec - INFO - Finding topics\n",
      "2023-03-15 18:27:13,218 - top2vec - INFO - Finding topics\n",
      "2023-03-15 18:27:14,101 - top2vec - INFO - Pre-processing documents for training\n",
      "2023-03-15 18:27:14,101 - top2vec - INFO - Pre-processing documents for training\n"
     ]
    },
    {
     "name": "stdout",
     "output_type": "stream",
     "text": [
      "Results\n",
      "============\n",
      "npmi: -0.11916273477666309\n",
      "diversity: 0.56\n",
      " \n"
     ]
    },
    {
     "name": "stderr",
     "output_type": "stream",
     "text": [
      "2023-03-15 18:27:14,380 - top2vec - INFO - Creating joint document/word embedding\n",
      "2023-03-15 18:27:14,380 - top2vec - INFO - Creating joint document/word embedding\n",
      "2023-03-15 18:27:20,260 - top2vec - INFO - Creating lower dimension embedding of documents\n",
      "2023-03-15 18:27:20,260 - top2vec - INFO - Creating lower dimension embedding of documents\n",
      "2023-03-15 18:27:35,879 - top2vec - INFO - Finding dense areas of documents\n",
      "2023-03-15 18:27:35,879 - top2vec - INFO - Finding dense areas of documents\n",
      "2023-03-15 18:27:36,344 - top2vec - INFO - Finding topics\n",
      "2023-03-15 18:27:36,344 - top2vec - INFO - Finding topics\n",
      "2023-03-15 18:27:37,330 - top2vec - INFO - Pre-processing documents for training\n",
      "2023-03-15 18:27:37,330 - top2vec - INFO - Pre-processing documents for training\n"
     ]
    },
    {
     "name": "stdout",
     "output_type": "stream",
     "text": [
      "Results\n",
      "============\n",
      "npmi: -0.162804230032822\n",
      "diversity: 0.3333333333333333\n",
      " \n"
     ]
    },
    {
     "name": "stderr",
     "output_type": "stream",
     "text": [
      "2023-03-15 18:27:37,665 - top2vec - INFO - Creating joint document/word embedding\n",
      "2023-03-15 18:27:37,665 - top2vec - INFO - Creating joint document/word embedding\n",
      "2023-03-15 18:27:44,724 - top2vec - INFO - Creating lower dimension embedding of documents\n",
      "2023-03-15 18:27:44,724 - top2vec - INFO - Creating lower dimension embedding of documents\n",
      "2023-03-15 18:27:58,470 - top2vec - INFO - Finding dense areas of documents\n",
      "2023-03-15 18:27:58,470 - top2vec - INFO - Finding dense areas of documents\n",
      "2023-03-15 18:27:59,164 - top2vec - INFO - Finding topics\n",
      "2023-03-15 18:27:59,164 - top2vec - INFO - Finding topics\n",
      "2023-03-15 18:27:59,894 - top2vec - INFO - Pre-processing documents for training\n",
      "2023-03-15 18:27:59,894 - top2vec - INFO - Pre-processing documents for training\n"
     ]
    },
    {
     "name": "stdout",
     "output_type": "stream",
     "text": [
      "Results\n",
      "============\n",
      "npmi: -0.13883678667321278\n",
      "diversity: 0.44285714285714284\n",
      " \n"
     ]
    },
    {
     "name": "stderr",
     "output_type": "stream",
     "text": [
      "2023-03-15 18:28:00,397 - top2vec - INFO - Creating joint document/word embedding\n",
      "2023-03-15 18:28:00,397 - top2vec - INFO - Creating joint document/word embedding\n",
      "2023-03-15 18:28:08,494 - top2vec - INFO - Creating lower dimension embedding of documents\n",
      "2023-03-15 18:28:08,494 - top2vec - INFO - Creating lower dimension embedding of documents\n",
      "2023-03-15 18:28:25,087 - top2vec - INFO - Finding dense areas of documents\n",
      "2023-03-15 18:28:25,087 - top2vec - INFO - Finding dense areas of documents\n",
      "2023-03-15 18:28:25,524 - top2vec - INFO - Finding topics\n",
      "2023-03-15 18:28:25,524 - top2vec - INFO - Finding topics\n",
      "2023-03-15 18:28:27,122 - top2vec - INFO - Pre-processing documents for training\n",
      "2023-03-15 18:28:27,122 - top2vec - INFO - Pre-processing documents for training\n"
     ]
    },
    {
     "name": "stdout",
     "output_type": "stream",
     "text": [
      "Results\n",
      "============\n",
      "npmi: -0.13531790843642938\n",
      "diversity: 0.4\n",
      " \n"
     ]
    },
    {
     "name": "stderr",
     "output_type": "stream",
     "text": [
      "2023-03-15 18:28:27,466 - top2vec - INFO - Creating joint document/word embedding\n",
      "2023-03-15 18:28:27,466 - top2vec - INFO - Creating joint document/word embedding\n",
      "2023-03-15 18:28:33,492 - top2vec - INFO - Creating lower dimension embedding of documents\n",
      "2023-03-15 18:28:33,492 - top2vec - INFO - Creating lower dimension embedding of documents\n",
      "2023-03-15 18:28:47,588 - top2vec - INFO - Finding dense areas of documents\n",
      "2023-03-15 18:28:47,588 - top2vec - INFO - Finding dense areas of documents\n",
      "2023-03-15 18:28:47,871 - top2vec - INFO - Finding topics\n",
      "2023-03-15 18:28:47,871 - top2vec - INFO - Finding topics\n",
      "2023-03-15 18:28:48,660 - top2vec - INFO - Pre-processing documents for training\n",
      "2023-03-15 18:28:48,660 - top2vec - INFO - Pre-processing documents for training\n"
     ]
    },
    {
     "name": "stdout",
     "output_type": "stream",
     "text": [
      "Results\n",
      "============\n",
      "npmi: -0.1434393836091666\n",
      "diversity: 0.36666666666666664\n",
      " \n"
     ]
    },
    {
     "name": "stderr",
     "output_type": "stream",
     "text": [
      "2023-03-15 18:28:48,911 - top2vec - INFO - Creating joint document/word embedding\n",
      "2023-03-15 18:28:48,911 - top2vec - INFO - Creating joint document/word embedding\n",
      "2023-03-15 18:28:54,954 - top2vec - INFO - Creating lower dimension embedding of documents\n",
      "2023-03-15 18:28:54,954 - top2vec - INFO - Creating lower dimension embedding of documents\n",
      "2023-03-15 18:29:09,962 - top2vec - INFO - Finding dense areas of documents\n",
      "2023-03-15 18:29:09,962 - top2vec - INFO - Finding dense areas of documents\n",
      "2023-03-15 18:29:10,329 - top2vec - INFO - Finding topics\n",
      "2023-03-15 18:29:10,329 - top2vec - INFO - Finding topics\n",
      "2023-03-15 18:29:11,267 - top2vec - INFO - Pre-processing documents for training\n",
      "2023-03-15 18:29:11,267 - top2vec - INFO - Pre-processing documents for training\n"
     ]
    },
    {
     "name": "stdout",
     "output_type": "stream",
     "text": [
      "Results\n",
      "============\n",
      "npmi: -0.13795672558617847\n",
      "diversity: 0.4125\n",
      " \n"
     ]
    },
    {
     "name": "stderr",
     "output_type": "stream",
     "text": [
      "2023-03-15 18:29:11,713 - top2vec - INFO - Creating joint document/word embedding\n",
      "2023-03-15 18:29:11,713 - top2vec - INFO - Creating joint document/word embedding\n",
      "2023-03-15 18:29:18,963 - top2vec - INFO - Creating lower dimension embedding of documents\n",
      "2023-03-15 18:29:18,963 - top2vec - INFO - Creating lower dimension embedding of documents\n",
      "2023-03-15 18:29:31,429 - top2vec - INFO - Finding dense areas of documents\n",
      "2023-03-15 18:29:31,429 - top2vec - INFO - Finding dense areas of documents\n",
      "2023-03-15 18:29:31,749 - top2vec - INFO - Finding topics\n",
      "2023-03-15 18:29:31,749 - top2vec - INFO - Finding topics\n"
     ]
    },
    {
     "name": "stdout",
     "output_type": "stream",
     "text": [
      "Results\n",
      "============\n",
      "npmi: -0.11192726769531944\n",
      "diversity: 0.45714285714285713\n",
      " \n"
     ]
    }
   ],
   "source": [
    "for i in range(3):\n",
    "    dataset, custom = \"climate\", True\n",
    "    params = {\"nr_topics\": [(i+1)*10 for i in range(5)],\n",
    "              # \"embedding_model\": \"all-MiniLM-L6-v2\",\n",
    "              \"hdbscan_args\": {'min_cluster_size': 15,\n",
    "                               'metric': 'euclidean',\n",
    "                               'cluster_selection_method': 'eom'}}\n",
    "\n",
    "    trainer = Trainer(dataset=dataset,\n",
    "                      custom_dataset=custom,\n",
    "                      custom_model=Top2Vec,\n",
    "                      model_name=\"Top2Vec\",\n",
    "                      params=params,\n",
    "                      verbose=True)\n",
    "    results = trainer.train(save=f\"Top2Vec_MiniLM_{i+1}\")"
   ]
  },
  {
   "cell_type": "markdown",
   "metadata": {
    "id": "j-M13ABjKQYE"
   },
   "source": [
    "# **Wall time**\n",
    "Here, we only focus on the wall time of each topic model, from instantiating the model to training. To do so, we take the Trump dataset and split it up into steps of 1000 documents. Then, we can train a model and track the wall time:"
   ]
  },
  {
   "cell_type": "code",
   "execution_count": 32,
   "metadata": {
    "id": "7l0Yu9vSKfKc"
   },
   "outputs": [
    {
     "name": "stderr",
     "output_type": "stream",
     "text": [
      "  0%|          | 0/1 [00:00<?, ?it/s]\n"
     ]
    },
    {
     "ename": "NameError",
     "evalue": "name 'tokenized_data' is not defined",
     "output_type": "error",
     "traceback": [
      "\u001b[0;31m---------------------------------------------------------------------------\u001b[0m",
      "\u001b[0;31mNameError\u001b[0m                                 Traceback (most recent call last)",
      "Cell \u001b[0;32mIn[32], line 16\u001b[0m\n\u001b[1;32m     13\u001b[0m \u001b[39mfor\u001b[39;00m index, nr_documents \u001b[39min\u001b[39;00m \u001b[39menumerate\u001b[39m(tqdm(np\u001b[39m.\u001b[39marange(\u001b[39m1000\u001b[39m, \u001b[39mlen\u001b[39m(data), \u001b[39m2_000\u001b[39m, dtype\u001b[39m=\u001b[39m\u001b[39mint\u001b[39m))):\n\u001b[1;32m     15\u001b[0m     selected_data \u001b[39m=\u001b[39m random\u001b[39m.\u001b[39msample(data, nr_documents)\n\u001b[0;32m---> 16\u001b[0m     selected_tokenized_data \u001b[39m=\u001b[39m random\u001b[39m.\u001b[39msample(tokenized_data, nr_documents)\n\u001b[1;32m     19\u001b[0m     \u001b[39m# Run model\u001b[39;00m\n\u001b[1;32m     20\u001b[0m     start \u001b[39m=\u001b[39m time\u001b[39m.\u001b[39mtime()\n",
      "\u001b[0;31mNameError\u001b[0m: name 'tokenized_data' is not defined"
     ]
    }
   ],
   "source": [
    "from tqdm import tqdm\n",
    "import random\n",
    "import time\n",
    "import pandas as pd\n",
    "\n",
    "embedding_model = \"all-MiniLM-L6-v2\"\n",
    "# embedding_model = tensorflow_hub.load(\"https://tfhub.dev/google/universal-sentence-encoder/4\")\n",
    "embedding_model_name = \"all-MiniLM-L6-v2\"\n",
    "topic_model_name = \"BERTopic_USE\"\n",
    "\n",
    "results = pd.DataFrame(columns=[\"dataset\", \"nr_documents\", \"vocab_size\", \"time\",\n",
    "                                \"cpu\", \"gpu\", \"gpu_cudnn\", \"gpu_memory\", \"embedding_model\"])\n",
    "for index, nr_documents in enumerate(tqdm(np.arange(1000, len(data), 2_000, dtype=int))):\n",
    "    \n",
    "    selected_data = random.sample(data, nr_documents)\n",
    "    selected_tokenized_data = random.sample(tokenized_data, nr_documents)\n",
    "    \n",
    "\n",
    "    # Run model\n",
    "    start = time.time()\n",
    "    \n",
    "    if topic_model_name == \"LDA\":\n",
    "        id2word = corpora.Dictionary(selected_tokenized_data)\n",
    "        id_corpus = [id2word.doc2bow(document) for document in selected_tokenized_data]\n",
    "        lda = LdaMulticore(id_corpus, id2word=id2word, num_topics=100)\n",
    "    \n",
    "    elif topic_model_name == \"NFM\":\n",
    "        id2word = corpora.Dictionary(selected_tokenized_data)\n",
    "        id_corpus = [id2word.doc2bow(document) for document in selected_tokenized_data]\n",
    "        nmf_model = nmf.Nmf(id_corpus, id2word=id2word, num_topics=100)\n",
    "\n",
    "    elif topic_model_name == \"BERTopic\":\n",
    "        topic_model = BERTopic(embedding_model=embedding_model)    \n",
    "        topics, probs = topic_model.fit_transform(selected_data)\n",
    "        \n",
    "    elif topic_model_name == \"BERTopic_Doc2Vec\":\n",
    "        train_corpus = [TaggedDocument(default_tokenizer(doc), [i]) for i, doc in enumerate(selected_data)]\n",
    "        doc2vec_args = {\"vector_size\": 300,\n",
    "                        \"min_count\": 50,\n",
    "                        \"window\": 15,\n",
    "                        \"sample\": 1e-5,\n",
    "                        \"negative\": 0,\n",
    "                        \"hs\": 1,\n",
    "                        \"epochs\": 40,\n",
    "                        \"dm\": 0,\n",
    "                        \"dbow_words\": 1,\n",
    "                       \"documents\": train_corpus,\n",
    "                       \"workers\": -1}\n",
    "        model = Doc2Vec(**doc2vec_args)\n",
    "        embeddings = model.docvecs.vectors_docs\n",
    "        topic_model = BERTopic()    \n",
    "        topics, probs = topic_model.fit_transform(selected_data, embeddings)\n",
    "        \n",
    "    elif topic_model_name == \"BERTopic_USE\":\n",
    "        embeddings = embedding_model(selected_data).cpu().numpy()\n",
    "        topic_model = BERTopic(embedding_model=embedding_model)    \n",
    "        topics, probs = topic_model.fit_transform(selected_data, embeddings)\n",
    "\n",
    "    elif topic_model_name == \"Top2Vec\":\n",
    "        model = Top2Vec(selected_data, hdbscan_args={\"min_cluster_size\": 15}, workers=-1)\n",
    "#         model = Top2VecNew(selected_data, hdbscan_args={\"min_cluster_size\": 15}, embedding_model=embedding_model)\n",
    "        \n",
    "\n",
    "    \n",
    "    end = time.time()\n",
    "\n",
    "    # Calculate vocab size\n",
    "    vectorizer = CountVectorizer()\n",
    "    X = vectorizer.fit_transform(selected_data)\n",
    "    vocab_size = len(vectorizer.get_feature_names())\n",
    "    \n",
    "    results.loc[len(results)] = [dataset, len(selected_data), vocab_size, end - start, cpu_name, gpu_name, \n",
    "                                 gpu_cudnn, gpu_memory, embedding_model_name]"
   ]
  },
  {
   "cell_type": "code",
   "execution_count": null,
   "metadata": {},
   "outputs": [],
   "source": []
  }
 ],
 "metadata": {
  "accelerator": "GPU",
  "colab": {
   "collapsed_sections": [],
   "name": "BERTopic OCTIS v3.ipynb",
   "provenance": [],
   "toc_visible": true
  },
  "kernelspec": {
   "display_name": "venv_nlp",
   "language": "python",
   "name": "python3"
  },
  "language_info": {
   "codemirror_mode": {
    "name": "ipython",
    "version": 3
   },
   "file_extension": ".py",
   "mimetype": "text/x-python",
   "name": "python",
   "nbconvert_exporter": "python",
   "pygments_lexer": "ipython3",
   "version": "3.9.6"
  },
  "vscode": {
   "interpreter": {
    "hash": "42353f8e58af4176f2e91cb75b1ead06ad78851c830c26089e6dc288583b73d2"
   }
  }
 },
 "nbformat": 4,
 "nbformat_minor": 1
}
